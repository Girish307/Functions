{
  "nbformat": 4,
  "nbformat_minor": 0,
  "metadata": {
    "colab": {
      "provenance": []
    },
    "kernelspec": {
      "name": "python3",
      "display_name": "Python 3"
    },
    "language_info": {
      "name": "python"
    }
  },
  "cells": [
    {
      "cell_type": "markdown",
      "source": [
        "#  What is the difference between a function and a method in Python?\n",
        "  -In python, functions and methods are callable objects yet they have some key differences-\n",
        "\n",
        "**Functions**:- :A function is a structured, reusable code block utilized for carrying out a specific task. Functions facilitate the creation of modular code, simplifying maintenance and reusability.\n",
        "\n",
        "**Methods**:- Methods are functions that are associated with an object or a class. They use dot notation on an abject or a class instance."
      ],
      "metadata": {
        "id": "xkqMP4BtF3Q1"
      }
    },
    {
      "cell_type": "code",
      "source": [
        "# functions\n",
        "def greet(name):\n",
        "  print(f\"Hello, {name}!\")\n",
        "\n",
        "greet(\"Girish\")\n"
      ],
      "metadata": {
        "colab": {
          "base_uri": "https://localhost:8080/"
        },
        "id": "y3F2BmFiInbz",
        "outputId": "e9fd7c50-685c-436e-ea94-b6a0d064011c"
      },
      "execution_count": null,
      "outputs": [
        {
          "output_type": "stream",
          "name": "stdout",
          "text": [
            "Hello, Girish!\n"
          ]
        }
      ]
    },
    {
      "cell_type": "code",
      "source": [
        "# methods\n",
        "class Dog:\n",
        "  def __init__(self, name):\n",
        "    self.name = name\n",
        "\n",
        "  def bark(self):\n",
        "   print(\"Woof!\")"
      ],
      "metadata": {
        "id": "ISHvp1ASJ7uI"
      },
      "execution_count": null,
      "outputs": []
    },
    {
      "cell_type": "markdown",
      "source": [
        "# Explain the concept of function arguments and parameters in Python?\n",
        "  - **Function arguments**- Arguments are the actual values that we provide to the fucntion. Arguments are filled in those input slots defined by the parameters. Python offers different types of arguments - positional, keywrod, default etc. to make functions more versatile.\n",
        "\n",
        "   **Parameters**- parameters are the placeholders in a function's definition that indicate the values the function needs to receive."
      ],
      "metadata": {
        "id": "Yqi3EK2-KizW"
      }
    },
    {
      "cell_type": "code",
      "source": [
        "def add_numbers(x, y):\n",
        "  sum = x + y\n",
        "  return sum\n",
        "result = add_numbers(5, 3)\n",
        "print(result)\n",
        "\n",
        "\n"
      ],
      "metadata": {
        "colab": {
          "base_uri": "https://localhost:8080/"
        },
        "id": "03bKlVZPvWtp",
        "outputId": "375ef037-91d4-4d2c-a509-cc900054dbba"
      },
      "execution_count": null,
      "outputs": [
        {
          "output_type": "stream",
          "name": "stdout",
          "text": [
            "8\n"
          ]
        }
      ]
    },
    {
      "cell_type": "markdown",
      "source": [
        "# What are the different ways to define and call a function in Python?\n",
        "  -there are several ways to define and call functions-\n",
        "  \n",
        "   **Basic Function Defination and Call**-\n",
        "   \n",
        "   1. Defination: defining the function using the def keyword, followed by the function name, a set of parantheses(), and a colon:"
      ],
      "metadata": {
        "id": "gMoyhwCPvfVm"
      }
    },
    {
      "cell_type": "code",
      "source": [
        "def greet(name):\n",
        "  print(f\"Hello, {name}!\")"
      ],
      "metadata": {
        "id": "6vQm8CoTyO6F"
      },
      "execution_count": null,
      "outputs": []
    },
    {
      "cell_type": "markdown",
      "source": [
        "  2. Call: to call the function,using its name followed by parentheses, passing any required arguments inside."
      ],
      "metadata": {
        "id": "CI7oJ-xJyWiX"
      }
    },
    {
      "cell_type": "code",
      "source": [
        "message = greet(\"Girish\")\n",
        "print(message)"
      ],
      "metadata": {
        "colab": {
          "base_uri": "https://localhost:8080/"
        },
        "id": "YvrrSwB_y0Uv",
        "outputId": "cdb5baff-03eb-4b29-a9b4-5b3722cc58cf"
      },
      "execution_count": null,
      "outputs": [
        {
          "output_type": "stream",
          "name": "stdout",
          "text": [
            "Hello, Girish!\n",
            "None\n"
          ]
        }
      ]
    },
    {
      "cell_type": "markdown",
      "source": [
        "**Functions with default Arguments** - by providing default values for parameters in the function definition. If the caller does't provide a value for that parameter."
      ],
      "metadata": {
        "id": "wVbIC31pzAwt"
      }
    },
    {
      "cell_type": "code",
      "source": [
        "def power(base, exponent=2):\n",
        "  result = base ** exponent\n",
        "  return result"
      ],
      "metadata": {
        "id": "D5M7gcIw0PtH"
      },
      "execution_count": null,
      "outputs": []
    },
    {
      "cell_type": "markdown",
      "source": [
        "**Functions with Variable Number of Arguments(*args)**:- the *args syntax allows a function to accept any number of positional arguments.These arguments are collected into a tuple within the function."
      ],
      "metadata": {
        "id": "KpEXe0f20bsG"
      }
    },
    {
      "cell_type": "code",
      "source": [
        "def average(*args):\n",
        "  if not args:\n",
        "    return 0\n",
        "  total = sum(args)\n",
        "  return total / len(args)\n",
        "  print(average(1,2,3,4,5))"
      ],
      "metadata": {
        "id": "RZglxezX1iFM"
      },
      "execution_count": null,
      "outputs": []
    },
    {
      "cell_type": "markdown",
      "source": [
        "**Functions with keyword Arguments(**kwargs):- the **kwargs syntax allows a function to accept any number of keyword arguments. These arguments are collected into a dictionary within the function."
      ],
      "metadata": {
        "id": "xNS0UKF71vDn"
      }
    },
    {
      "cell_type": "code",
      "source": [
        "def describe_person(name, **kwargs):\n",
        "  print(f\"Name: {name}\")\n",
        "  for key, value in kwargs.items():\n",
        "    print(f\"{key}: {value}\")"
      ],
      "metadata": {
        "id": "-lXlXgMp2npW"
      },
      "execution_count": null,
      "outputs": []
    },
    {
      "cell_type": "markdown",
      "source": [
        "**Functions with keyword- Only Arguments**:- In that certain arguments must be provided as keywords using the *symbol in the function definition."
      ],
      "metadata": {
        "id": "fm_jUQtz2x3G"
      }
    },
    {
      "cell_type": "code",
      "source": [
        "def greet_person(name, *, greeting=\"Hello\"):\n",
        "  print(f\"{greeting}, {name}!\")"
      ],
      "metadata": {
        "id": "S6u8c7bN4B2E"
      },
      "execution_count": null,
      "outputs": []
    },
    {
      "cell_type": "markdown",
      "source": [
        "**Lamda Functions**:- lamda functions are small, unnamed functions defined using the lamda keyword."
      ],
      "metadata": {
        "id": "jEP8LQB74IOW"
      }
    },
    {
      "cell_type": "code",
      "source": [
        "square = lambda x: x ** 2\n",
        "print(square(5))"
      ],
      "metadata": {
        "colab": {
          "base_uri": "https://localhost:8080/"
        },
        "id": "HdoQEcMZ4ltA",
        "outputId": "f901112b-7196-4d39-c8cc-de58246e1d4b"
      },
      "execution_count": null,
      "outputs": [
        {
          "output_type": "stream",
          "name": "stdout",
          "text": [
            "25\n"
          ]
        }
      ]
    },
    {
      "cell_type": "markdown",
      "source": [
        "#  What is the purpose of the `return` statement in a Python function?\n",
        "  - return is the mechanism by which a function communicates its outcome or result to the rest of your program. key roles of 'return' function-\n",
        "  1. Returning a value: the most common use of return is to give a specific value back to the caller.\n",
        "  2. Existing the function: when a return statement is encounterd, the function immediately stops executing, even if there's more code after the return statement.\n",
        "  3. Returning Multiple values\n",
        "  4. Returning None"
      ],
      "metadata": {
        "id": "yFopcarw4z8a"
      }
    },
    {
      "cell_type": "markdown",
      "source": [
        "#  What are iterators in Python and how do they differ from iterables?\n",
        "  **Iterators**:-\n",
        "\n",
        "An iterator is an object that represents a stream of data. It's used to retrieve items from an iterable one by one. An iterator is an object which implements the __iter__() and __next__() methods. The __iter__() method returns the iterator object itself. If __next__() is called when there are no more items to return, it should raise a StopIteration exception.\n",
        "\n",
        "Iterables:-\n",
        "\n",
        "In Python, an iterable is any object that can be looped over. It's like a container that holds a sequence of items. Technically, an iterable is an object which implements the iter() method, which returns an iterator."
      ],
      "metadata": {
        "id": "2n7yG5Q97maX"
      }
    },
    {
      "cell_type": "code",
      "source": [
        "my_list = [1, 2, 3, 4, 5]  # my_list is an iterable\n",
        "\n",
        "my_iterator = iter(my_list)  # Get an iterator from the list\n",
        "\n",
        "print(next(my_iterator))  # Output: 1\n",
        "print(next(my_iterator))  # Output:2\n",
        "print(next(my_iterator))  # output:3"
      ],
      "metadata": {
        "colab": {
          "base_uri": "https://localhost:8080/"
        },
        "id": "jcgAMufx9BYd",
        "outputId": "76c8fd08-b82a-46f4-f212-2741f76c748f"
      },
      "execution_count": null,
      "outputs": [
        {
          "output_type": "stream",
          "name": "stdout",
          "text": [
            "1\n",
            "2\n",
            "3\n"
          ]
        }
      ]
    },
    {
      "cell_type": "markdown",
      "source": [
        "#  Explain the concept of generators in Python and how they are defined.\n",
        "  **Concept of Generators**\n",
        "\n",
        "Generators offer a memory-efficient approach to working with large datasets or sequences. Unlike regular functions that generate and store an entire sequence in memory, generators produce values on demand, one at a time, as they are iterated over. This \"lazy evaluation\" significantly reduces memory consumption, particularly when dealing with extensive data.\n",
        "\n",
        "**Defining Generators**\n",
        "\n",
        "Generators are defined using function syntax but employ the yield keyword instead of return. When a generator function is called, it doesn't immediately execute its code. Instead, it returns a generator object. Each time the next() function is called on the generator object, the function's code executes until it encounters a yield statement, at which point it yields a value. The generator function's state is then saved, and execution resumes from where it left off the next time next() is called."
      ],
      "metadata": {
        "id": "IpNC1bMe9tMb"
      }
    },
    {
      "cell_type": "code",
      "source": [
        "def my_generator(n):\n",
        "    for i in range(n):\n",
        "        yield i\n",
        "gen = my_generator(5)\n",
        "for value in gen:\n",
        "    print(value)"
      ],
      "metadata": {
        "colab": {
          "base_uri": "https://localhost:8080/"
        },
        "id": "DJXsOuld-vKS",
        "outputId": "c574cd05-7d23-473d-81a5-e055db2408d0"
      },
      "execution_count": null,
      "outputs": [
        {
          "output_type": "stream",
          "name": "stdout",
          "text": [
            "0\n",
            "1\n",
            "2\n",
            "3\n",
            "4\n"
          ]
        }
      ]
    },
    {
      "cell_type": "markdown",
      "source": [
        "# . What are the advantages of using generators over regular functions?\n",
        "  -There are many advantages of using genrators in python such as-\n",
        "  1. **Memory Efficiency:** Generators excel in memory management. Unlike regular functions that generate and store an entire sequence in memory before returning it, generators produce values on demand, one at a time, as they are iterated over.\n",
        "  2. **Improved Performance:** They avoid unnecessary computations by generating values only when requested. This can be particularly beneficial for large datasets or complex calculations where generating the entire result upfront would be time-consuming.\n",
        "  3. **Representing Infinite Sequences:** Generators can effectively represent infinite sequences. Since they generate values on demand, they can theoretically keep producing values indefinitely without consuming excessive memory.\n",
        "  4. **Enhanced Readability:**  Using generators can lead to more readable and concise code. The yield keyword simplifies the process of generating values, making the code logic easier to follow.\n",
        "  5. **Pipeline Creation:**  Generators can be chained together to form processing pipelines. This allows you to break down complex operations into smaller, more manageable steps, where each generator performs a specific transformation on the data. This approach enhances modularity and code reusability."
      ],
      "metadata": {
        "id": "Nvu13fw5_Cou"
      }
    },
    {
      "cell_type": "code",
      "source": [
        "def squares(n):\n",
        "    results = []\n",
        "    for i in range(n):\n",
        "        results.append(i * i)\n",
        "    return results\n",
        "\n",
        "squares_list = squares(1000000)"
      ],
      "metadata": {
        "id": "iCgtb0_5BvI0"
      },
      "execution_count": null,
      "outputs": []
    },
    {
      "cell_type": "markdown",
      "source": [
        "# What is a lambda function in Python and when is it typically used?\n",
        "  - Lambda functions are small, anonymous functions defined using the lambda keyword.\n",
        "They are used for creating small, throwaway functions without the need to formally define a function\n",
        "using def keyword.\n",
        "\n",
        "Key Points:\n",
        "1. Anonymous: Lambda functions are not bound to a name.\n",
        "2.  Single Expression: They can contain only one expression, which is evaluated and returned"
      ],
      "metadata": {
        "id": "RmXOsLzwB2Tp"
      }
    },
    {
      "cell_type": "code",
      "source": [
        "square = lambda x : x * x\n",
        "print(square(12))"
      ],
      "metadata": {
        "colab": {
          "base_uri": "https://localhost:8080/"
        },
        "id": "QE1Y9LHMDKnd",
        "outputId": "0ea8cd02-89d7-40a5-aa20-f61025d53dba"
      },
      "execution_count": null,
      "outputs": [
        {
          "output_type": "stream",
          "name": "stdout",
          "text": [
            "144\n"
          ]
        }
      ]
    },
    {
      "cell_type": "markdown",
      "source": [
        "#  Explain the purpose and usage of the `map()` function in Python.\n",
        "  - The map function applies a given function to all items in an input iterable (like a list) and\n",
        "returns an iterator with the results.\n",
        "\n",
        "**Key Points**\n",
        "1. Transformation: Used to transform each item in an iterable by applying the specified function."
      ],
      "metadata": {
        "id": "NjeKnCngEL8F"
      }
    },
    {
      "cell_type": "code",
      "source": [
        "numbers = [1,2,3,4,5]\n",
        "square = map(lambda x : x * x ,numbers)\n",
        "print(list(square))\n"
      ],
      "metadata": {
        "colab": {
          "base_uri": "https://localhost:8080/"
        },
        "id": "ua0hHKqtF5VB",
        "outputId": "dc8a013b-2530-454f-ceed-6fc6f1c1008d"
      },
      "execution_count": null,
      "outputs": [
        {
          "output_type": "stream",
          "name": "stdout",
          "text": [
            "[1, 4, 9, 16, 25]\n"
          ]
        }
      ]
    },
    {
      "cell_type": "markdown",
      "source": [
        "# What is the difference between `map()`, `reduce()`, and `filter()` functions in Python?\n",
        "  -the main difference b/w map(),reduce() and filter() are-\n",
        "  1. **map()** -it transforms each item in an iterable (like a list) by applying a function to it.It also returns iterator where each item is the result of applying the function to the corresponding item in the orginal iterable.\n",
        "  2. **reduce()-** it aggregates all items in an iterable into a single value by repeatedly applying a function. It returns a single value that is the result of the aggregation.\n",
        "  3. **filter()-** it selects items from an iterable based on a condition defined by a function. It returns an iterator containing only the items from the orginal iterable that satisfy the condition in the function."
      ],
      "metadata": {
        "id": "DRaARXheIRk8"
      }
    },
    {
      "cell_type": "code",
      "source": [
        "# map(): square each number\n",
        "numbers = [1, 2, 3, 4, 5]\n",
        "squared = map(lambda x: x ** 2, numbers)\n",
        "print(list(squared))"
      ],
      "metadata": {
        "colab": {
          "base_uri": "https://localhost:8080/"
        },
        "id": "sok_1C66ThlE",
        "outputId": "8f28b78a-4303-47f7-86e0-eb318b6efb74"
      },
      "execution_count": null,
      "outputs": [
        {
          "output_type": "stream",
          "name": "stdout",
          "text": [
            "[1, 4, 9, 16, 25]\n"
          ]
        }
      ]
    },
    {
      "cell_type": "code",
      "source": [
        "# Import the reduce function from the functools module\n",
        "numbers = [1, 2, 3, 4, 5]\n",
        "product = reduce(lambda x, y: x * y, numbers)\n",
        "print(product)"
      ],
      "metadata": {
        "colab": {
          "base_uri": "https://localhost:8080/"
        },
        "id": "Cw6gBg_-W46M",
        "outputId": "7351396d-d160-45e4-8645-627d65f788b3"
      },
      "execution_count": null,
      "outputs": [
        {
          "output_type": "stream",
          "name": "stdout",
          "text": [
            "120\n"
          ]
        }
      ]
    },
    {
      "cell_type": "code",
      "source": [
        "# filter (): keeps only even numbers\n",
        "even_numbers = filter(lambda x: x % 2 == 0, numbers)\n",
        "print(list(even_numbers))"
      ],
      "metadata": {
        "colab": {
          "base_uri": "https://localhost:8080/"
        },
        "id": "0m5xmVEfXIbt",
        "outputId": "5c3551b1-19c5-4aac-ddc0-b7e3139525c2"
      },
      "execution_count": null,
      "outputs": [
        {
          "output_type": "stream",
          "name": "stdout",
          "text": [
            "[2, 4]\n"
          ]
        }
      ]
    },
    {
      "cell_type": "markdown",
      "source": [
        "# Using pen & Paper write the internal mechanism for sum operation using  reduce function on this given\n",
        "list:[47,11,42,13];\n"
      ],
      "metadata": {
        "id": "yTuyMZdmXgqQ"
      }
    },
    {
      "cell_type": "markdown",
      "source": [
        "# **Practical Questions**"
      ],
      "metadata": {
        "id": "gkbiLbUyYVHz"
      }
    },
    {
      "cell_type": "markdown",
      "source": [
        "#  Write a Python function that takes a list of numbers as input and returns the sum of all even numbers in the list."
      ],
      "metadata": {
        "id": "j2ig3gqGEt1N"
      }
    },
    {
      "cell_type": "code",
      "source": [
        "def sum_of_even_numbers(numbers):\n",
        "\n",
        "  total = 0\n",
        "  for number in numbers:\n",
        "    if number % 2 == 0:\n",
        "      total += number\n",
        "  return total"
      ],
      "metadata": {
        "id": "5UqrJkrkY_qE"
      },
      "execution_count": null,
      "outputs": []
    },
    {
      "cell_type": "markdown",
      "source": [
        "#  Create a Python function that accepts a string and returns the reverse of that string"
      ],
      "metadata": {
        "id": "16y2cuFoZ4tP"
      }
    },
    {
      "cell_type": "code",
      "source": [
        "def reverse_string(input_string):\n",
        "  \"\"\"Reverses a given string.\n",
        "\n",
        "  Args:\n",
        "    input_string: The string to be reversed.\n",
        "\n",
        "  Returns:\n",
        "    The reversed string.\n",
        "  \"\"\"\n",
        "  return input_string[::-1]\n"
      ],
      "metadata": {
        "id": "eAY7ueVOZ-Bo"
      },
      "execution_count": null,
      "outputs": []
    },
    {
      "cell_type": "markdown",
      "source": [
        "#  Implement a Python function that takes a list of integers and returns a new list containing the squares of each number."
      ],
      "metadata": {
        "id": "nRVmxLW3aYQT"
      }
    },
    {
      "cell_type": "code",
      "source": [
        "def square_numbers(numbers):\n",
        "    \"\"\"Returns a new list containing the squares of the input numbers.\n",
        "\n",
        "    Args:\n",
        "        numbers: A list of integers.\n",
        "\n",
        "    Returns:\n",
        "        A new list containing the squares of the input numbers.\n",
        "    \"\"\"\n",
        "    squared_numbers = []\n",
        "    for number in numbers:\n",
        "        squared_numbers.append(number**2)\n",
        "    return squared_numbers\n"
      ],
      "metadata": {
        "id": "Iq43NaNQaj1C"
      },
      "execution_count": null,
      "outputs": []
    },
    {
      "cell_type": "markdown",
      "source": [
        "#  Write a Python function that checks if a given number is prime or not from 1 to 200"
      ],
      "metadata": {
        "id": "HnN9pa9la2-r"
      }
    },
    {
      "cell_type": "code",
      "source": [
        "def is_prime(number):\n",
        "    \"\"\"Checks if a given number is prime.\n",
        "\n",
        "    Args:\n",
        "      number: The number to check for primality.\n",
        "\n",
        "    Returns:\n",
        "      True if the number is prime, False otherwise.\n",
        "    \"\"\"\n",
        "    if number <= 1:\n",
        "        return False\n",
        "    if number <= 3:\n",
        "        return True\n",
        "    if number % 2 == 0 or number % 3 == 0:\n",
        "        return False\n",
        "    for i in range(5, int(math.sqrt(number)) + 1, 6):\n",
        "        if number % i == 0 or number % (i + 2) == 0:\n",
        "            return False\n",
        "    return True\n",
        "\n",
        "def check_primes_in_range(limit=200):\n",
        "    \"\"\"Checks for prime numbers within a specified range (default is 1-200).\n",
        "\n",
        "    Args:\n",
        "      limit: The upper limit of the range (inclusive).\n",
        "\n",
        "    Returns:\n",
        "      A list of prime numbers within the range.\n",
        "    \"\"\"\n",
        "    prime_numbers = []\n",
        "    for num in range(2, limit + 1):\n",
        "      if is_prime(num):\n",
        "        prime_numbers.append(num)\n",
        "    return prime_number"
      ],
      "metadata": {
        "id": "6kvX6_3Zb5-F"
      },
      "execution_count": null,
      "outputs": []
    },
    {
      "cell_type": "markdown",
      "source": [
        "# Create an iterator class in Python that generates the Fibonacci sequence up to a specified number of terms"
      ],
      "metadata": {
        "id": "vavHAyxbb-lQ"
      }
    },
    {
      "cell_type": "code",
      "source": [
        "class FibonacciIterator:\n",
        "    def __init__(self, n):\n",
        "        self.n = n\n",
        "        self.a = 0\n",
        "        self.b = 1\n",
        "        self.count = 0\n",
        "\n",
        "    def __iter__(self):\n",
        "        return self\n",
        "\n",
        "    def __next__(self):\n",
        "        if self.count >= self.n:\n",
        "            raise StopIteration\n",
        "\n",
        "        if self.count <= 1:\n",
        "          result = self.count\n",
        "        else:\n",
        "          result = self.a + self.b\n",
        "          self.a, self.b = self.b, result\n",
        "        self.count += 1\n",
        "        return result"
      ],
      "metadata": {
        "id": "NkwkZaHTcTbl"
      },
      "execution_count": null,
      "outputs": []
    },
    {
      "cell_type": "markdown",
      "source": [
        "# Write a generator function in Python that yields the powers of 2 up to a given exponent.\n",
        "  -"
      ],
      "metadata": {
        "id": "tXQZlqTWcV74"
      }
    },
    {
      "cell_type": "code",
      "source": [
        "def powers_of_2(exponent):\n",
        "\n",
        "    for i in range(exponent + 1):\n",
        "        yield 2**i\n"
      ],
      "metadata": {
        "id": "FvfufFbavjY9"
      },
      "execution_count": 2,
      "outputs": []
    },
    {
      "cell_type": "markdown",
      "source": [
        " # Implement a generator function that reads a file line by line and yields each line as a string."
      ],
      "metadata": {
        "id": "TH_ar6DvwCON"
      }
    },
    {
      "cell_type": "code",
      "source": [
        "def read_file_line_by_line(filepath):\n",
        "\n",
        "    try:\n",
        "        with open(filepath, 'r') as file:\n",
        "            for line in file:\n",
        "                yield line.strip()\n",
        "    except FileNotFoundError:\n",
        "        print(f\"Error: File not found at '{filepath}'\")\n",
        "        return\n"
      ],
      "metadata": {
        "id": "lD7piRJcwoCR"
      },
      "execution_count": 4,
      "outputs": []
    },
    {
      "cell_type": "markdown",
      "source": [
        "#  Use a lambda function in Python to sort a list of tuples based on the second element of each tuple."
      ],
      "metadata": {
        "id": "U5A5VolcxAoM"
      }
    },
    {
      "cell_type": "code",
      "source": [
        "data = [(1, 5), (3, 2), (2, 8), (4, 1)]\n",
        "\n",
        "sorted_data = sorted(data, key=lambda x: x[1])\n",
        "\n",
        "sorted_data\n"
      ],
      "metadata": {
        "colab": {
          "base_uri": "https://localhost:8080/"
        },
        "id": "Dvvk57icxEe-",
        "outputId": "76d795b5-4509-4cb2-dfca-6647ed6b5e5e"
      },
      "execution_count": 5,
      "outputs": [
        {
          "output_type": "execute_result",
          "data": {
            "text/plain": [
              "[(4, 1), (3, 2), (1, 5), (2, 8)]"
            ]
          },
          "metadata": {},
          "execution_count": 5
        }
      ]
    },
    {
      "cell_type": "markdown",
      "source": [
        "#  Write a Python program that uses `map()` to convert a list of temperatures from Celsius to Fahrenheit."
      ],
      "metadata": {
        "id": "UifQK0UnxQwJ"
      }
    },
    {
      "cell_type": "code",
      "source": [
        "def celsius_to_fahrenheit(celsius):\n",
        "  \"\"\"Converts Celsius to Fahrenheit.\"\"\"\n",
        "  return (celsius * 9/5) + 32\n",
        "\n",
        "celsius_temps = [0, 10, 20, 30, 40]\n",
        "fahrenheit_temps = list(map(celsius_to_fahrenheit, celsius_temps))\n",
        "fahrenheit_temps\n"
      ],
      "metadata": {
        "colab": {
          "base_uri": "https://localhost:8080/"
        },
        "id": "sO0yUGsaxWti",
        "outputId": "560bf923-4d04-4d37-85f3-153389bf4b7e"
      },
      "execution_count": 7,
      "outputs": [
        {
          "output_type": "execute_result",
          "data": {
            "text/plain": [
              "[32.0, 50.0, 68.0, 86.0, 104.0]"
            ]
          },
          "metadata": {},
          "execution_count": 7
        }
      ]
    },
    {
      "cell_type": "markdown",
      "source": [
        "#  Create a Python program that uses `filter()` to remove all the vowels from a given string"
      ],
      "metadata": {
        "id": "YuTudUXDxfz-"
      }
    },
    {
      "cell_type": "code",
      "source": [
        "def remove_vowels(input_string):\n",
        "  vowels = \"aeiouAEIOU\"\n",
        "  return \"\".join(filter(lambda char: char not in vowels, input_string))\n"
      ],
      "metadata": {
        "id": "N_OC1Ip2xkqv"
      },
      "execution_count": 9,
      "outputs": []
    },
    {
      "cell_type": "markdown",
      "source": [
        "#  Imagine an accounting routine used in a book shop. It works on a list with sublists, which look like this:\n",
        "\n",
        "Write a Python program, which returns a list with 2-tuples. Each tuple consists of the order number and the\n",
        "product of the price per item and the quantity. The product should be increased by 10,- € if the value of the\n",
        "order is smaller than 100,00 €.\n",
        "\n",
        "Write a Python program using lambda and map."
      ],
      "metadata": {
        "id": "tdG_A9ZVxzNX"
      }
    },
    {
      "cell_type": "code",
      "source": [
        "data = [\n",
        "    [34587, \"Learning Python, Mark Lutz\", 4, 40.95],\n",
        "    [98762, \"Programming Python, Mark Lutz\", 5, 56.80],\n",
        "    [77226, \"Head First Python, Paul Barry\", 3, 32.95],\n",
        "    [88112, \"Einführung in Python3, Bernd Klein\", 3, 24.99]\n",
        "]\n",
        "\n",
        "result = list(map(lambda item: (item[0], (item[2] * item[3] + 10) if (item[2] * item[3]) < 100 else (item[2] * item[3])), data))\n",
        "\n",
        "print(result)"
      ],
      "metadata": {
        "colab": {
          "base_uri": "https://localhost:8080/"
        },
        "id": "lW0nBcje5eej",
        "outputId": "7ea12d76-57b1-46b0-d50a-baeb7d78444e"
      },
      "execution_count": 10,
      "outputs": [
        {
          "output_type": "stream",
          "name": "stdout",
          "text": [
            "[(34587, 163.8), (98762, 284.0), (77226, 108.85000000000001), (88112, 84.97)]\n"
          ]
        }
      ]
    }
  ]
}